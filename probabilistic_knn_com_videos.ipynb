{
 "cells": [
  {
   "cell_type": "markdown",
   "metadata": {},
   "source": [
    "<h3>K-Nearest Neighbors na Classificação de Vídeos</h3>"
   ]
  },
  {
   "cell_type": "markdown",
   "metadata": {},
   "source": [
    "<h4>Instanciação e Treinamento</h4>"
   ]
  },
  {
   "cell_type": "code",
   "execution_count": 5,
   "metadata": {},
   "outputs": [
    {
     "data": {
      "text/plain": [
       "True"
      ]
     },
     "execution_count": 5,
     "metadata": {},
     "output_type": "execute_result"
    }
   ],
   "source": [
    "from Neuraline.ArtificialIntelligence.MachineLearning.SupervisedLearning.probabilistic_knn import ProbabilisticKNN\n",
    "probabilistic_knn = ProbabilisticKNN()\n",
    "# treinamento com as amostras de exemplo para cada classe\n",
    "probabilistic_knn.addFit(url_path='./videos/training/amarelo.mp4', class_name='amarelo')\n",
    "probabilistic_knn.addFit(url_path='./videos/training/vermelho.mp4', class_name='vermelho')"
   ]
  },
  {
   "cell_type": "markdown",
   "metadata": {},
   "source": [
    "<h4>Teste com Vídeo Amarelo</h4>"
   ]
  },
  {
   "cell_type": "code",
   "execution_count": 6,
   "metadata": {},
   "outputs": [
    {
     "name": "stdout",
     "output_type": "stream",
     "text": [
      "[{'amarelo': 0.9112804545617623}]\n",
      "Classificação para a MAIOR probabilidade: amarelo\n"
     ]
    }
   ],
   "source": [
    "url_inputs = './videos/test/amarelo.mp4'\n",
    "classification = probabilistic_knn.predict(url_inputs, gaussian=True)\n",
    "# retorno original\n",
    "print(classification)\n",
    "# retorno formatado\n",
    "print(f'Classificação para a MAIOR probabilidade: {list(classification[0].keys())[0]}')"
   ]
  },
  {
   "cell_type": "markdown",
   "metadata": {},
   "source": [
    "<h4>Teste com Vídeo Vermelho</h4>"
   ]
  },
  {
   "cell_type": "code",
   "execution_count": 7,
   "metadata": {},
   "outputs": [
    {
     "name": "stdout",
     "output_type": "stream",
     "text": [
      "[{'vermelho': 0.9930165029104762}]\n",
      "Classificação para a MAIOR probabilidade: vermelho\n"
     ]
    }
   ],
   "source": [
    "url_inputs = './videos/test/vermelho.mp4'\n",
    "classification = probabilistic_knn.predict(url_inputs, gaussian=True)\n",
    "# retorno original\n",
    "print(classification)\n",
    "# retorno formatado\n",
    "print(f'Classificação para a MAIOR probabilidade: {list(classification[0].keys())[0]}')"
   ]
  }
 ],
 "metadata": {
  "kernelspec": {
   "display_name": "Python 3.10.4 64-bit",
   "language": "python",
   "name": "python3"
  },
  "language_info": {
   "codemirror_mode": {
    "name": "ipython",
    "version": 3
   },
   "file_extension": ".py",
   "mimetype": "text/x-python",
   "name": "python",
   "nbconvert_exporter": "python",
   "pygments_lexer": "ipython3",
   "version": "3.10.4"
  },
  "orig_nbformat": 4,
  "vscode": {
   "interpreter": {
    "hash": "916dbcbb3f70747c44a77c7bcd40155683ae19c65e1c03b4aa3499c5328201f1"
   }
  }
 },
 "nbformat": 4,
 "nbformat_minor": 2
}
